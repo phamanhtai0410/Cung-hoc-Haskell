{
 "cells": [
  {
   "cell_type": "code",
   "execution_count": null,
   "metadata": {},
   "outputs": [],
   "source": [
    ":opt no-lint"
   ]
  },
  {
   "attachments": {},
   "cell_type": "markdown",
   "metadata": {},
   "source": [
    "# Improving and combining functions"
   ]
  },
  {
   "attachments": {},
   "cell_type": "markdown",
   "metadata": {},
   "source": [
    "## Outline\n",
    "\n",
    "- Higher-order functions\n",
    "\t- `filter`\n",
    "\t- `any`\n",
    "- Lambda functions\n",
    "- Precedence and associativity\n",
    "- Curried functions\n",
    "    - Partial application\n",
    "- Applying and composing functions \n",
    "\t- The `$` operator\n",
    "\t- The `.` operator\n",
    "- Point-free style"
   ]
  },
  {
   "attachments": {},
   "cell_type": "markdown",
   "metadata": {},
   "source": [
    "## Higher-order functions"
   ]
  },
  {
   "attachments": {},
   "cell_type": "markdown",
   "metadata": {},
   "source": [
    "Một **hàm có thứ tự ưu tiên cao hơn** **(higher-order function)** là một hàm mà dùng các hàm khác để nhận vào với vai trò các tham số hoặc kết quả trả về."
   ]
  },
  {
   "attachments": {},
   "cell_type": "markdown",
   "metadata": {},
   "source": [
    "Vì chúng ta có thể đưa các hàm với vai trò là tham số đầu vào, trả chúng về như là kết quả, và gán chúng như các biến, chúng giống như bất kì gía trị nào khác. Cho nên chúng ta sẽ gọi những hàm đó là **first-class citizens**.\n",
    "\n",
    "Chúng ta hãy bắt đầu với một ví dụ cơ bản sau. Hãy tưởng tượng bạn cáo một hàm mà bạn thường áp dụng hai lần (vì một vài nguyên do). Giống như sau:"
   ]
  },
  {
   "cell_type": "code",
   "execution_count": null,
   "metadata": {
    "vscode": {
     "languageId": "haskell"
    }
   },
   "outputs": [
    {
     "ename": "",
     "evalue": "",
     "output_type": "error",
     "traceback": [
      "\u001b[1;31mRunning cells with 'd:\\CODING\\Python\\python.exe' requires ipykernel package.\n",
      "\u001b[1;31mRun the following command to install 'ipykernel' into the Python environment. \n",
      "\u001b[1;31mCommand: 'd:/CODING/Python/python.exe -m pip install ipykernel -U --user --force-reinstall'"
     ]
    }
   ],
   "source": [
    "complexFunc1 :: Int -> Int\n",
    "complexFunc1 x = x + 1\n",
    "\n",
    "func1 :: Int -> Int\n",
    "func1 x = complexFunc1 (complexFunc1 x)\n",
    "\n",
    "complexFunc2 :: Int -> Int\n",
    "complexFunc2 x = x + 2\n",
    "\n",
    "func2 :: Int -> Int\n",
    "func2 x = (complexFunc2 (complexFunc2 x)) + (complexFunc2 (complexFunc2 x))"
   ]
  },
  {
   "attachments": {},
   "cell_type": "markdown",
   "metadata": {},
   "source": [
    "Đây là một ví dụ được làm phức tạp hóa, nhưng bạn có thể nhận thấy cách mà một ví dụ được thể hiện. Bạn luôn sử dụng `complexFunc1` và `complexFunc2` hai lần! Ngay khi mà chúng ta xem ví dụ này, chúng ta nhận ra rằng ta có thể thực hiện một cách tốt hơn. Sẽ ra sao nếu như ta tạo một hàm mà nhận vào hai tham số - một hàm và một giá trị - và thực thi hàm đó hai lần với giá trị đã nhận vào!\n",
    "\n",
    "Ta có thể thực hiện điều đó như sau:"
   ]
  },
  {
   "cell_type": "code",
   "execution_count": null,
   "metadata": {
    "vscode": {
     "languageId": "haskell"
    }
   },
   "outputs": [],
   "source": [
    "applyTwice :: (a -> a) -> a -> a\n",
    "applyTwice f x = f (f x)"
   ]
  },
  {
   "attachments": {},
   "cell_type": "markdown",
   "metadata": {},
   "source": [
    "Ở đây, chữ kí cho kiểu dữ liệu sẽ khác so với ví dụ trước đó. Phần `(a -> a)` cho thấy tham số đầu tiên là một hàm nhận vào giá trị với kiểu `a` và trả về giá trị cùng kiểu dữ liệu. Tham số thứ hai chỉ là một giá trị với kiểu `a`, và cả hai hàm `applyTwice` đều trả về một giá trị kiểu `a`."
   ]
  },
  {
   "attachments": {},
   "cell_type": "markdown",
   "metadata": {},
   "source": [
    "Ta có thể sử dụng hàm `applyTwice` để đơn giản hóa code trước đó như sau:"
   ]
  },
  {
   "cell_type": "code",
   "execution_count": null,
   "metadata": {
    "vscode": {
     "languageId": "haskell"
    }
   },
   "outputs": [],
   "source": [
    "func1' :: Int -> Int\n",
    "func1' x = applyTwice complexFunc1 x\n",
    "\n",
    "func2' :: Int -> Int\n",
    "func2' x = (applyTwice complexFunc2 x) + (applyTwice complexFunc2 x)"
   ]
  },
  {
   "attachments": {},
   "cell_type": "markdown",
   "metadata": {},
   "source": [
    "Trên đây là ví dụ đơn giản, nhưng **các hàm với thứ tự ưu tiên cao hơn** là một tính năng đầy mạnh mẽ. Vì thế chúng xuất hiện ở khắp nơi. Thực tế, bạn có thể tạo ra **Domain Specific Language** của riêng bạn sử dụng **higher-order functions**! Nhưng hãy đi lần lượt từng bước. Giờ hãy bắt đầu bằng cách sử dụng 2 **higher-order functions** tích hợp trong Haskell."
   ]
  },
  {
   "attachments": {},
   "cell_type": "markdown",
   "metadata": {},
   "source": [
    "### Hàm `filter`"
   ]
  },
  {
   "attachments": {},
   "cell_type": "markdown",
   "metadata": {},
   "source": [
    "Hãy bắt đầu với hàm `filter`:"
   ]
  },
  {
   "cell_type": "code",
   "execution_count": null,
   "metadata": {},
   "outputs": [],
   "source": [
    ":t filter "
   ]
  },
  {
   "attachments": {},
   "cell_type": "markdown",
   "metadata": {},
   "source": [
    "Hàm này nhận vào một hàm thuộc tính (một hàm trả về một số kiểu boolean) `a -> Bool` và một mảng các phần tử kiểu `a` và lọc những phần tử của mảng thỏa hàm kiểm tra thuộc tính.\n",
    "\n",
    "Ví dụ, nếu ta muốn lọc chỉ những số chẵn trong mảng các phần tử từ 1 đến 20, chúng ta có thể code một vài thứ như sau:"
   ]
  },
  {
   "cell_type": "code",
   "execution_count": null,
   "metadata": {},
   "outputs": [],
   "source": [
    "filter even [1..20]"
   ]
  },
  {
   "attachments": {},
   "cell_type": "markdown",
   "metadata": {},
   "source": [
    "Hoặc là, để dùng các điều kiện khác, ta có thể lọc từ một mảng trái cây chỉ những trái mà bao gồm kí tự `'a'`:"
   ]
  },
  {
   "cell_type": "code",
   "execution_count": null,
   "metadata": {
    "vscode": {
     "languageId": "haskell"
    }
   },
   "outputs": [],
   "source": [
    "fruitWithA = filter tempFunct [\"Apple\", \"Banana\", \"Pear\", \"Grape\", \"Wood\"]\n",
    "                where tempFunct x = 'a' `elem` x\n",
    "fruitWithA"
   ]
  },
  {
   "attachments": {},
   "cell_type": "markdown",
   "metadata": {},
   "source": [
    "Như bạn có thể thấy, bạn cũng có thể định nghĩa trong một mệnh đề `where` để bỏ vào hàm kiểm tra trong một hàm `filter` function."
   ]
  },
  {
   "attachments": {},
   "cell_type": "markdown",
   "metadata": {},
   "source": [
    "### Hàm `any`"
   ]
  },
  {
   "attachments": {},
   "cell_type": "markdown",
   "metadata": {},
   "source": [
    "Ta có hàm `any`:\n",
    "- Hàm này nhận vào một hàm kiểm tra và một mảng các phần tử. Nhưng hàm này kiểm tra nếu tồn tại bất kì phần tử nào trong mảng thỏa hàm kiểm tra.\n",
    "- Ví dụ, ở đây ta kiểm tra xem có bất kì phần tử nào trong mảng lớn hơn 4. Nếu có bất kì phần tử nào thỏa thì trả về `True`, ngược lại trả về `False`:"
   ]
  },
  {
   "cell_type": "code",
   "execution_count": null,
   "metadata": {},
   "outputs": [],
   "source": [
    "biggerThan4 x = x > 4\n",
    "\n",
    "any biggerThan4 [1,2,3,4] "
   ]
  },
  {
   "attachments": {},
   "cell_type": "markdown",
   "metadata": {},
   "source": [
    "Một ví dụ thực tế về việc sử dụng hàm `any` là khi ta kiểm tra xem còn xe nào ở trên trang web bán xe:"
   ]
  },
  {
   "cell_type": "code",
   "execution_count": null,
   "metadata": {},
   "outputs": [],
   "source": [
    "cars = [(\"Toyota\",0), (\"Nissan\",3), (\"Ford\",1)]\n",
    "\n",
    "biggerThan0 (_,x) = x > 0\n",
    "\n",
    "any biggerThan0 cars"
   ]
  },
  {
   "attachments": {},
   "cell_type": "markdown",
   "metadata": {},
   "source": [
    "## Hàm `Lambda`"
   ]
  },
  {
   "attachments": {},
   "cell_type": "markdown",
   "metadata": {},
   "source": [
    "Hàm `lambda` được bắt nguồn từ phép tính trong toán học gọi là `phép tính lambda`. Bản thân nó là một chủ đề hấp dẫn và là một công cụ vô cùng mạnh mẽ trong **Calculus**. Tuy nhiên, tại đây, ta chỉ nhìn nhận nó với góc độ của việc lập trình."
   ]
  },
  {
   "attachments": {},
   "cell_type": "markdown",
   "metadata": {},
   "source": [
    "Hàm `lambda` còn được gọi là hàm ẩn danh hay hàm mà được định nghĩa mà không hề có tên."
   ]
  },
  {
   "attachments": {},
   "cell_type": "markdown",
   "metadata": {},
   "source": [
    "Ví dụ, hàm `f(x, y) = x * y` trông như sau trong Haskell:"
   ]
  },
  {
   "cell_type": "markdown",
   "metadata": {},
   "source": [
    "```haskell\n",
    "\\x y -> x * y\n",
    "```"
   ]
  },
  {
   "attachments": {},
   "cell_type": "markdown",
   "metadata": {},
   "source": [
    "Một hàm `lambda` bao gồm 4 thành phần sau: \n",
    "- Bắt đầu với một dấu gạch chéo ngược `\\` để đánh dấu đây là hàm `lambda`.\n",
    "- Tên các tham số (trong trường hợp này là x và y) mà hàm nhận làm đầu vào.\n",
    "- Mũi tên (`->`) có tác dụng **tách** phần đầu vào và phần thân hàm.\n",
    "- Và mọi thứ sau dấu mũi tên sẽ là **phần thân** của hàm."
   ]
  },
  {
   "attachments": {},
   "cell_type": "markdown",
   "metadata": {},
   "source": [
    "## Precedence and associativity (Tính ưu tiên và Tính kết hợp)"
   ]
  },
  {
   "attachments": {},
   "cell_type": "markdown",
   "metadata": {},
   "source": [
    "### Precedence (Tính ưu tiên)"
   ]
  },
  {
   "attachments": {},
   "cell_type": "markdown",
   "metadata": {},
   "source": [
    "**Tính ưu tiên** biểu hiện độ ưu tiên của một toán tử (được đánh dấu bởi các con số từ 0 đến 9). Nếu chúng ta sử dụng hai toán tử với độ ưu tiên khác nhau, toán tử có độ ưu tiên cao hơn sẽ được áp dụng trước. Nghĩa là toán thử có độ ưu tiên cao hơn thì ràng buộc chặt chẽ hơn!\n",
    "\n",
    "Ta có thể lấy độ ưu tiên của toán tử bằng hàm lấy thông tin `:i`."
   ]
  },
  {
   "cell_type": "code",
   "execution_count": null,
   "metadata": {},
   "outputs": [],
   "source": [
    ":i (+)  -- infixl 6 +\n",
    ":i (*)  -- infixl 7 *\n",
    "\n",
    "1 + 2 * 3  -- Same as 1 + (2 * 3)"
   ]
  },
  {
   "attachments": {},
   "cell_type": "markdown",
   "metadata": {},
   "source": [
    "<div class=\"alert alert-block alert-info\">\n",
    "    <code>infixl 6 +</code> và <code>infixl 7 *</code> được gọi là <b>fixity declarations</b>.\n",
    "</div>"
   ]
  },
  {
   "attachments": {},
   "cell_type": "markdown",
   "metadata": {},
   "source": [
    "Thế nhưng sẽ ra sao nếu 2 toán tử có cùng độ ưu tiên ? Lúc này **tính kết hợp** sẽ được xét đến."
   ]
  },
  {
   "attachments": {},
   "cell_type": "markdown",
   "metadata": {},
   "source": [
    "### Associativity (Tính kết hợp)"
   ]
  },
  {
   "attachments": {},
   "cell_type": "markdown",
   "metadata": {},
   "source": [
    "Khi chúng ta dùng lệnh `:i` bên trên, ta nhạn được từ khóa `infixl`. Đây là tính kết hợp của toán tử."
   ]
  },
  {
   "attachments": {},
   "cell_type": "markdown",
   "metadata": {},
   "source": [
    "Khi hai toán tử có cùng độ ưu tiên thì tính kết hợp sẽ chỉ ra cho ta biết hướng nào (`infixl` tức bên trái hay `infixr` tức bên phải) sẽ được tính toán trước."
   ]
  },
  {
   "attachments": {},
   "cell_type": "markdown",
   "metadata": {},
   "source": [
    "Ví dụ:\n",
    "- Toán tử (+) và (*) thì có tính kết hợp bên trái, tức là sẽ được tính toán phía bên trái trước.\n",
    "- Toán tử (:) thì có tính kết hợp là bên phải, nên sẽ được tính từ phải trước.\n",
    "- Toán tử (==) thì không có tính kệp hợp `infix`, tức nghĩa là, nếu bạn dùng nhiều hơn 1 lần toán tử này thì phải dùng các dấu ngoặc đơn để chỉ rõ thứ tự thực thi."
   ]
  },
  {
   "cell_type": "code",
   "execution_count": null,
   "metadata": {},
   "outputs": [],
   "source": [
    "1 + 2 + 3 + 4  -- infixl: Same as ((1 + 2) + 3) + 4\n",
    "\n",
    "1 : 2 : 3 : [] -- infixr: Same as 1 : (2 : (3 : []))\n",
    "\n",
    "True == (False == False) -- infix: If you remove parenthesis, you'll get an error."
   ]
  },
  {
   "attachments": {},
   "cell_type": "markdown",
   "metadata": {},
   "source": [
    "Và, đương nhiên, ta có thể thay đổi thứ tự thực thi bằng cách sử dụng các cặp ngoặc đơn:"
   ]
  },
  {
   "cell_type": "code",
   "execution_count": null,
   "metadata": {},
   "outputs": [],
   "source": [
    ":i (**) -- infixr 8 **\n",
    "\n",
    "2**3**4  -- infixr: Same as 2 ** (3 ** 4)\n",
    "(2**3)**4"
   ]
  },
  {
   "attachments": {},
   "cell_type": "markdown",
   "metadata": {},
   "source": [
    "Cuối cùng, ta hoàn toàn có thể tự định nghĩa độ phức tạp và tính kết hợp của toán từ mà ta tự định nghĩa. Như sau:"
   ]
  },
  {
   "cell_type": "code",
   "execution_count": null,
   "metadata": {},
   "outputs": [],
   "source": [
    "x +++ y = x + y -- Creating +++ operator\n",
    "infixl 7 +++    -- Setting fixity of operator\n",
    "\n",
    "1 +++ 2 * 3  -- 9"
   ]
  },
  {
   "attachments": {},
   "cell_type": "markdown",
   "metadata": {},
   "source": [
    "<div class=\"alert alert-block alert-info\">\n",
    "<b>Important note:</b> \n",
    "   <ul>\n",
    "       <li>Các toán tử mà không có định nghĩa về fixity thì mặc định là <code>infixl 9</code></li>\n",
    "       <li>Việc thực thi gọi hàm (toán tử `whitespace`) luôn có độ ưu tiên cao nhất (hãy hình dung độ ưu tiên là 10).</li>\n",
    "   </ul>\n",
    "</div>"
   ]
  }
 ],
 "metadata": {
  "kernelspec": {
   "display_name": "Python 3",
   "language": "python",
   "name": "python3"
  },
  "language_info": {
   "name": "python",
   "version": "3.11.1 (tags/v3.11.1:a7a450f, Dec  6 2022, 19:58:39) [MSC v.1934 64 bit (AMD64)]"
  },
  "orig_nbformat": 4,
  "vscode": {
   "interpreter": {
    "hash": "35e2c6321659cd6fb35521ebd8e7225f0a3e7389146d04e250b85edbb0888a36"
   }
  }
 },
 "nbformat": 4,
 "nbformat_minor": 2
}
